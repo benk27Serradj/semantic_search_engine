{
 "cells": [
  {
   "cell_type": "markdown",
   "id": "4b826298",
   "metadata": {},
   "source": [
    "# Import Libraries"
   ]
  },
  {
   "cell_type": "code",
   "execution_count": 1,
   "id": "e5ec4f9e",
   "metadata": {},
   "outputs": [
    {
     "name": "stderr",
     "output_type": "stream",
     "text": [
      "C:\\Users\\Lenovo\\AppData\\Local\\Temp\\ipykernel_16392\\1050519788.py:1: DeprecationWarning: \n",
      "Pyarrow will become a required dependency of pandas in the next major release of pandas (pandas 3.0),\n",
      "(to allow more performant data types, such as the Arrow string type, and better interoperability with other libraries)\n",
      "but was not found to be installed on your system.\n",
      "If this would cause problems for you,\n",
      "please provide us feedback at https://github.com/pandas-dev/pandas/issues/54466\n",
      "        \n",
      "  import pandas as pd\n"
     ]
    }
   ],
   "source": [
    "import pandas as pd\n",
    "import numpy as np\n",
    "import matplotlib as plt\n",
    "import seaborn as sns"
   ]
  },
  {
   "cell_type": "markdown",
   "id": "9dd7de65",
   "metadata": {},
   "source": [
    "# Load the dataset"
   ]
  },
  {
   "cell_type": "code",
   "execution_count": 2,
   "id": "6452ed4d",
   "metadata": {},
   "outputs": [
    {
     "data": {
      "text/html": [
       "<div>\n",
       "<style scoped>\n",
       "    .dataframe tbody tr th:only-of-type {\n",
       "        vertical-align: middle;\n",
       "    }\n",
       "\n",
       "    .dataframe tbody tr th {\n",
       "        vertical-align: top;\n",
       "    }\n",
       "\n",
       "    .dataframe thead th {\n",
       "        text-align: right;\n",
       "    }\n",
       "</style>\n",
       "<table border=\"1\" class=\"dataframe\">\n",
       "  <thead>\n",
       "    <tr style=\"text-align: right;\">\n",
       "      <th></th>\n",
       "      <th>Release Year</th>\n",
       "      <th>Title</th>\n",
       "      <th>Origin/Ethnicity</th>\n",
       "      <th>Director</th>\n",
       "      <th>Cast</th>\n",
       "      <th>Genre</th>\n",
       "      <th>Wiki Page</th>\n",
       "      <th>Plot</th>\n",
       "    </tr>\n",
       "  </thead>\n",
       "  <tbody>\n",
       "    <tr>\n",
       "      <th>0</th>\n",
       "      <td>1901</td>\n",
       "      <td>Kansas Saloon Smashers</td>\n",
       "      <td>American</td>\n",
       "      <td>Unknown</td>\n",
       "      <td>NaN</td>\n",
       "      <td>unknown</td>\n",
       "      <td>https://en.wikipedia.org/wiki/Kansas_Saloon_Sm...</td>\n",
       "      <td>A bartender is working at a saloon, serving dr...</td>\n",
       "    </tr>\n",
       "    <tr>\n",
       "      <th>1</th>\n",
       "      <td>1901</td>\n",
       "      <td>Love by the Light of the Moon</td>\n",
       "      <td>American</td>\n",
       "      <td>Unknown</td>\n",
       "      <td>NaN</td>\n",
       "      <td>unknown</td>\n",
       "      <td>https://en.wikipedia.org/wiki/Love_by_the_Ligh...</td>\n",
       "      <td>The moon, painted with a smiling face hangs ov...</td>\n",
       "    </tr>\n",
       "    <tr>\n",
       "      <th>2</th>\n",
       "      <td>1901</td>\n",
       "      <td>The Martyred Presidents</td>\n",
       "      <td>American</td>\n",
       "      <td>Unknown</td>\n",
       "      <td>NaN</td>\n",
       "      <td>unknown</td>\n",
       "      <td>https://en.wikipedia.org/wiki/The_Martyred_Pre...</td>\n",
       "      <td>The film, just over a minute long, is composed...</td>\n",
       "    </tr>\n",
       "    <tr>\n",
       "      <th>3</th>\n",
       "      <td>1901</td>\n",
       "      <td>Terrible Teddy, the Grizzly King</td>\n",
       "      <td>American</td>\n",
       "      <td>Unknown</td>\n",
       "      <td>NaN</td>\n",
       "      <td>unknown</td>\n",
       "      <td>https://en.wikipedia.org/wiki/Terrible_Teddy,_...</td>\n",
       "      <td>Lasting just 61 seconds and consisting of two ...</td>\n",
       "    </tr>\n",
       "    <tr>\n",
       "      <th>4</th>\n",
       "      <td>1902</td>\n",
       "      <td>Jack and the Beanstalk</td>\n",
       "      <td>American</td>\n",
       "      <td>George S. Fleming, Edwin S. Porter</td>\n",
       "      <td>NaN</td>\n",
       "      <td>unknown</td>\n",
       "      <td>https://en.wikipedia.org/wiki/Jack_and_the_Bea...</td>\n",
       "      <td>The earliest known adaptation of the classic f...</td>\n",
       "    </tr>\n",
       "  </tbody>\n",
       "</table>\n",
       "</div>"
      ],
      "text/plain": [
       "   Release Year                             Title Origin/Ethnicity  \\\n",
       "0          1901            Kansas Saloon Smashers         American   \n",
       "1          1901     Love by the Light of the Moon         American   \n",
       "2          1901           The Martyred Presidents         American   \n",
       "3          1901  Terrible Teddy, the Grizzly King         American   \n",
       "4          1902            Jack and the Beanstalk         American   \n",
       "\n",
       "                             Director Cast    Genre  \\\n",
       "0                             Unknown  NaN  unknown   \n",
       "1                             Unknown  NaN  unknown   \n",
       "2                             Unknown  NaN  unknown   \n",
       "3                             Unknown  NaN  unknown   \n",
       "4  George S. Fleming, Edwin S. Porter  NaN  unknown   \n",
       "\n",
       "                                           Wiki Page  \\\n",
       "0  https://en.wikipedia.org/wiki/Kansas_Saloon_Sm...   \n",
       "1  https://en.wikipedia.org/wiki/Love_by_the_Ligh...   \n",
       "2  https://en.wikipedia.org/wiki/The_Martyred_Pre...   \n",
       "3  https://en.wikipedia.org/wiki/Terrible_Teddy,_...   \n",
       "4  https://en.wikipedia.org/wiki/Jack_and_the_Bea...   \n",
       "\n",
       "                                                Plot  \n",
       "0  A bartender is working at a saloon, serving dr...  \n",
       "1  The moon, painted with a smiling face hangs ov...  \n",
       "2  The film, just over a minute long, is composed...  \n",
       "3  Lasting just 61 seconds and consisting of two ...  \n",
       "4  The earliest known adaptation of the classic f...  "
      ]
     },
     "execution_count": 2,
     "metadata": {},
     "output_type": "execute_result"
    }
   ],
   "source": [
    "# change the path of the dataset\n",
    "data = pd.read_csv('archive/wiki_movie_plots_deduped.csv')\n",
    "data.head(5)"
   ]
  },
  {
   "cell_type": "code",
   "execution_count": 3,
   "id": "4e0fbfb3",
   "metadata": {},
   "outputs": [
    {
     "data": {
      "text/html": [
       "<div>\n",
       "<style scoped>\n",
       "    .dataframe tbody tr th:only-of-type {\n",
       "        vertical-align: middle;\n",
       "    }\n",
       "\n",
       "    .dataframe tbody tr th {\n",
       "        vertical-align: top;\n",
       "    }\n",
       "\n",
       "    .dataframe thead th {\n",
       "        text-align: right;\n",
       "    }\n",
       "</style>\n",
       "<table border=\"1\" class=\"dataframe\">\n",
       "  <thead>\n",
       "    <tr style=\"text-align: right;\">\n",
       "      <th></th>\n",
       "      <th>Release Year</th>\n",
       "      <th>Title</th>\n",
       "      <th>Origin/Ethnicity</th>\n",
       "      <th>Director</th>\n",
       "      <th>Cast</th>\n",
       "      <th>Genre</th>\n",
       "      <th>Wiki Page</th>\n",
       "      <th>Plot</th>\n",
       "    </tr>\n",
       "  </thead>\n",
       "  <tbody>\n",
       "    <tr>\n",
       "      <th>34881</th>\n",
       "      <td>2014</td>\n",
       "      <td>The Water Diviner</td>\n",
       "      <td>Turkish</td>\n",
       "      <td>Director: Russell Crowe</td>\n",
       "      <td>Director: Russell Crowe\\r\\nCast: Russell Crowe...</td>\n",
       "      <td>unknown</td>\n",
       "      <td>https://en.wikipedia.org/wiki/The_Water_Diviner</td>\n",
       "      <td>The film begins in 1919, just after World War ...</td>\n",
       "    </tr>\n",
       "    <tr>\n",
       "      <th>34882</th>\n",
       "      <td>2017</td>\n",
       "      <td>Çalgı Çengi İkimiz</td>\n",
       "      <td>Turkish</td>\n",
       "      <td>Selçuk Aydemir</td>\n",
       "      <td>Ahmet Kural, Murat Cemcir</td>\n",
       "      <td>comedy</td>\n",
       "      <td>https://en.wikipedia.org/wiki/%C3%87alg%C4%B1_...</td>\n",
       "      <td>Two musicians, Salih and Gürkan, described the...</td>\n",
       "    </tr>\n",
       "    <tr>\n",
       "      <th>34883</th>\n",
       "      <td>2017</td>\n",
       "      <td>Olanlar Oldu</td>\n",
       "      <td>Turkish</td>\n",
       "      <td>Hakan Algül</td>\n",
       "      <td>Ata Demirer, Tuvana Türkay, Ülkü Duru</td>\n",
       "      <td>comedy</td>\n",
       "      <td>https://en.wikipedia.org/wiki/Olanlar_Oldu</td>\n",
       "      <td>Zafer, a sailor living with his mother Döndü i...</td>\n",
       "    </tr>\n",
       "    <tr>\n",
       "      <th>34884</th>\n",
       "      <td>2017</td>\n",
       "      <td>Non-Transferable</td>\n",
       "      <td>Turkish</td>\n",
       "      <td>Brendan Bradley</td>\n",
       "      <td>YouTubers Shanna Malcolm, Shira Lazar, Sara Fl...</td>\n",
       "      <td>romantic comedy</td>\n",
       "      <td>https://en.wikipedia.org/wiki/Non-Transferable...</td>\n",
       "      <td>The film centres around a young woman named Am...</td>\n",
       "    </tr>\n",
       "    <tr>\n",
       "      <th>34885</th>\n",
       "      <td>2017</td>\n",
       "      <td>İstanbul Kırmızısı</td>\n",
       "      <td>Turkish</td>\n",
       "      <td>Ferzan Özpetek</td>\n",
       "      <td>Halit Ergenç, Tuba Büyüküstün, Mehmet Günsür, ...</td>\n",
       "      <td>romantic</td>\n",
       "      <td>https://en.wikipedia.org/wiki/%C4%B0stanbul_K%...</td>\n",
       "      <td>The writer Orhan Şahin returns to İstanbul aft...</td>\n",
       "    </tr>\n",
       "  </tbody>\n",
       "</table>\n",
       "</div>"
      ],
      "text/plain": [
       "       Release Year               Title Origin/Ethnicity  \\\n",
       "34881          2014   The Water Diviner          Turkish   \n",
       "34882          2017  Çalgı Çengi İkimiz          Turkish   \n",
       "34883          2017        Olanlar Oldu          Turkish   \n",
       "34884          2017    Non-Transferable          Turkish   \n",
       "34885          2017  İstanbul Kırmızısı          Turkish   \n",
       "\n",
       "                      Director  \\\n",
       "34881  Director: Russell Crowe   \n",
       "34882           Selçuk Aydemir   \n",
       "34883              Hakan Algül   \n",
       "34884          Brendan Bradley   \n",
       "34885           Ferzan Özpetek   \n",
       "\n",
       "                                                    Cast            Genre  \\\n",
       "34881  Director: Russell Crowe\\r\\nCast: Russell Crowe...          unknown   \n",
       "34882                          Ahmet Kural, Murat Cemcir           comedy   \n",
       "34883              Ata Demirer, Tuvana Türkay, Ülkü Duru           comedy   \n",
       "34884  YouTubers Shanna Malcolm, Shira Lazar, Sara Fl...  romantic comedy   \n",
       "34885  Halit Ergenç, Tuba Büyüküstün, Mehmet Günsür, ...         romantic   \n",
       "\n",
       "                                               Wiki Page  \\\n",
       "34881    https://en.wikipedia.org/wiki/The_Water_Diviner   \n",
       "34882  https://en.wikipedia.org/wiki/%C3%87alg%C4%B1_...   \n",
       "34883         https://en.wikipedia.org/wiki/Olanlar_Oldu   \n",
       "34884  https://en.wikipedia.org/wiki/Non-Transferable...   \n",
       "34885  https://en.wikipedia.org/wiki/%C4%B0stanbul_K%...   \n",
       "\n",
       "                                                    Plot  \n",
       "34881  The film begins in 1919, just after World War ...  \n",
       "34882  Two musicians, Salih and Gürkan, described the...  \n",
       "34883  Zafer, a sailor living with his mother Döndü i...  \n",
       "34884  The film centres around a young woman named Am...  \n",
       "34885  The writer Orhan Şahin returns to İstanbul aft...  "
      ]
     },
     "execution_count": 3,
     "metadata": {},
     "output_type": "execute_result"
    }
   ],
   "source": [
    "data.tail(5)"
   ]
  },
  {
   "cell_type": "code",
   "execution_count": 4,
   "id": "45e68788",
   "metadata": {},
   "outputs": [
    {
     "data": {
      "text/plain": [
       "(34886, 8)"
      ]
     },
     "execution_count": 4,
     "metadata": {},
     "output_type": "execute_result"
    }
   ],
   "source": [
    "data.shape"
   ]
  },
  {
   "cell_type": "markdown",
   "id": "cd169786",
   "metadata": {},
   "source": [
    "# Exploratory Data Analysis"
   ]
  },
  {
   "cell_type": "code",
   "execution_count": 5,
   "id": "64fd763b",
   "metadata": {},
   "outputs": [
    {
     "data": {
      "text/plain": [
       "Release Year           0\n",
       "Title                  0\n",
       "Origin/Ethnicity       0\n",
       "Director               0\n",
       "Cast                1422\n",
       "Genre                  0\n",
       "Wiki Page              0\n",
       "Plot                   0\n",
       "dtype: int64"
      ]
     },
     "execution_count": 5,
     "metadata": {},
     "output_type": "execute_result"
    }
   ],
   "source": [
    "data.isnull().sum()"
   ]
  },
  {
   "cell_type": "code",
   "execution_count": 6,
   "id": "25ffd195",
   "metadata": {},
   "outputs": [
    {
     "data": {
      "text/plain": [
       "2265"
      ]
     },
     "execution_count": 6,
     "metadata": {},
     "output_type": "execute_result"
    }
   ],
   "source": [
    "data['Genre'].nunique()"
   ]
  },
  {
   "cell_type": "code",
   "execution_count": 7,
   "id": "77f88eb7",
   "metadata": {},
   "outputs": [
    {
     "data": {
      "text/plain": [
       "24"
      ]
     },
     "execution_count": 7,
     "metadata": {},
     "output_type": "execute_result"
    }
   ],
   "source": [
    "data['Origin/Ethnicity'].nunique()"
   ]
  },
  {
   "cell_type": "code",
   "execution_count": 8,
   "id": "a6f8c5aa",
   "metadata": {},
   "outputs": [
    {
     "data": {
      "text/plain": [
       "117"
      ]
     },
     "execution_count": 8,
     "metadata": {},
     "output_type": "execute_result"
    }
   ],
   "source": [
    "data['Release Year'].nunique()"
   ]
  },
  {
   "cell_type": "code",
   "execution_count": 9,
   "id": "c6b0923d",
   "metadata": {},
   "outputs": [
    {
     "data": {
      "text/plain": [
       "0        False\n",
       "1        False\n",
       "2        False\n",
       "3        False\n",
       "4        False\n",
       "         ...  \n",
       "34881    False\n",
       "34882    False\n",
       "34883    False\n",
       "34884    False\n",
       "34885    False\n",
       "Length: 34886, dtype: bool"
      ]
     },
     "execution_count": 9,
     "metadata": {},
     "output_type": "execute_result"
    }
   ],
   "source": [
    "data.duplicated()"
   ]
  },
  {
   "cell_type": "markdown",
   "id": "0bd70cab",
   "metadata": {},
   "source": [
    "## Distribution of movies over the years"
   ]
  },
  {
   "cell_type": "code",
   "execution_count": 10,
   "id": "9d98f1ed",
   "metadata": {},
   "outputs": [
    {
     "data": {
      "image/png": "[encoded data removed]",
      "text/plain": [
       "<Figure size 1300x500 with 1 Axes>"
      ]
     },
     "metadata": {},
     "output_type": "display_data"
    }
   ],
   "source": [
    "import matplotlib.pyplot as plt\n",
    "\n",
    "movies_per_year = data['Release Year'].value_counts().sort_index().reset_index()\n",
    "movies_per_year.columns = ['Release Year' , 'Count']\n",
    "\n",
    "sns.set_style('whitegrid')\n",
    "plt.figure(figsize=(13, 5))\n",
    "\n",
    "sns.lineplot(x='Release Year', y='Count', data=movies_per_year)\n",
    "\n",
    "plt.title('Distribution of the movies over the years', fontsize=25)\n",
    "plt.xlabel('Year', fontsize=20)\n",
    "plt.ylabel('Number of movies', fontsize=20)\n",
    "plt.xticks(fontsize=15)\n",
    "plt.yticks(fontsize=15)\n",
    "\n",
    "plt.show()"
   ]
  },
  {
   "cell_type": "markdown",
   "id": "ce23b5c2",
   "metadata": {},
   "source": [
    "## Movies origin"
   ]
  },
  {
   "cell_type": "code",
   "execution_count": 11,
   "id": "343c2cd4",
   "metadata": {},
   "outputs": [
    {
     "data": {
      "image/png": "[encoded data removed]",
      "text/plain": [
       "<Figure size 1600x900 with 1 Axes>"
      ]
     },
     "metadata": {},
     "output_type": "display_data"
    }
   ],
   "source": [
    "movies_per_origin = data['Origin/Ethnicity'].value_counts().sort_index().reset_index()\n",
    "movies_per_origin.columns = ['Origin', 'Count']\n",
    "\n",
    "\n",
    "plt.figure(figsize=(16, 9))\n",
    "\n",
    "\n",
    "sns.barplot(x='Origin', y='Count', data=movies_per_origin)\n",
    "\n",
    "plt.title('Movies Origin', fontsize=25)\n",
    "plt.xlabel('Origin', fontsize=20)\n",
    "plt.ylabel('Movies Origin', fontsize=20)\n",
    "plt.xticks(fontsize=15, rotation=45, ha='right')\n",
    "plt.yticks(fontsize=15)\n",
    "\n",
    "plt.show()\n"
   ]
  },
  {
   "cell_type": "markdown",
   "id": "d78b0556",
   "metadata": {},
   "source": [
    "# Data Pre-processing"
   ]
  },
  {
   "cell_type": "code",
   "execution_count": 13,
   "id": "214ce67a",
   "metadata": {},
   "outputs": [],
   "source": [
    "# Import\n",
    "import spacy\n",
    "import string\n",
    "import gensim\n",
    "import operator\n",
    "import re\n",
    "\n",
    "\n",
    "import nltk\n",
    "from nltk.corpus import stopwords\n",
    "from nltk.tokenize import word_tokenize\n",
    "from nltk.stem import WordNetLemmatizer"
   ]
  },
  {
   "cell_type": "code",
   "execution_count": 14,
   "id": "ca0b94fb",
   "metadata": {},
   "outputs": [],
   "source": [
    "def text_cleaner(text):\n",
    "    \n",
    "    # Remove any characters that are not uppercase letters, lowercase letters, or white space character.\n",
    "    cleaned_text = re.sub(r'[^A-Za-z\\s]', '', text) \n",
    "    \n",
    "    # Replace conecutive spaces with a single space.\n",
    "    cleaned_text = re.sub(r'\\s+', ' ', cleaned_text).strip()\n",
    "    \n",
    "    return cleaned_text   "
   ]
  },
  {
   "cell_type": "code",
   "execution_count": 15,
   "id": "3228d7d3",
   "metadata": {},
   "outputs": [],
   "source": [
    "# Create a list of stopwords\n",
    "stop_words = set(stopwords.words('english'))\n",
    "\n",
    "# Initialize limitizers\n",
    "lemmatizer = WordNetLemmatizer()"
   ]
  },
  {
   "cell_type": "code",
   "execution_count": 16,
   "id": "891f99cd",
   "metadata": {},
   "outputs": [],
   "source": [
    "def nltk_tokenizer(text):\n",
    "    \n",
    "    # Remove any characters that are not uppercase letters, lowercase letters, or white space character.\n",
    "    cleaned_text = re.sub(r'[^A-Za-z\\s]', '', text) \n",
    "    \n",
    "    # Replace conecutive spaces with a single space.\n",
    "    cleaned_text = re.sub(r'\\s+', ' ', cleaned_text).strip()\n",
    "    \n",
    "    # Creating token objects      \n",
    "    tokens = word_tokenize(cleaned_text)\n",
    "    \n",
    "    \n",
    "    lowercase_tokens = [token.lower() for token in tokens]\n",
    "    \n",
    "    # remove stop words\n",
    "    filtered_tokens = [token for token in lowercase_tokens if token not in stop_words]\n",
    "    \n",
    "    # limitize the tokens\n",
    "    lemmatized_tokens = [lemmatizer.lemmatize(token) for token in filtered_tokens]\n",
    "    \n",
    "    return lemmatized_tokens\n",
    "    "
   ]
  },
  {
   "cell_type": "code",
   "execution_count": 17,
   "id": "103bd0ad",
   "metadata": {},
   "outputs": [
    {
     "name": "stdout",
     "output_type": "stream",
     "text": [
      "Cleaning and Tokenizing...\n",
      "CPU times: total: 39.5 s\n",
      "Wall time: 1min 44s\n"
     ]
    },
    {
     "data": {
      "text/html": [
       "<div>\n",
       "<style scoped>\n",
       "    .dataframe tbody tr th:only-of-type {\n",
       "        vertical-align: middle;\n",
       "    }\n",
       "\n",
       "    .dataframe tbody tr th {\n",
       "        vertical-align: top;\n",
       "    }\n",
       "\n",
       "    .dataframe thead th {\n",
       "        text-align: right;\n",
       "    }\n",
       "</style>\n",
       "<table border=\"1\" class=\"dataframe\">\n",
       "  <thead>\n",
       "    <tr style=\"text-align: right;\">\n",
       "      <th></th>\n",
       "      <th>Release Year</th>\n",
       "      <th>Title</th>\n",
       "      <th>Origin/Ethnicity</th>\n",
       "      <th>Director</th>\n",
       "      <th>Cast</th>\n",
       "      <th>Genre</th>\n",
       "      <th>Wiki Page</th>\n",
       "      <th>Plot</th>\n",
       "      <th>plot_tokenized</th>\n",
       "    </tr>\n",
       "  </thead>\n",
       "  <tbody>\n",
       "    <tr>\n",
       "      <th>0</th>\n",
       "      <td>1901</td>\n",
       "      <td>Kansas Saloon Smashers</td>\n",
       "      <td>American</td>\n",
       "      <td>Unknown</td>\n",
       "      <td>NaN</td>\n",
       "      <td>unknown</td>\n",
       "      <td>https://en.wikipedia.org/wiki/Kansas_Saloon_Sm...</td>\n",
       "      <td>A bartender is working at a saloon, serving dr...</td>\n",
       "      <td>[bartender, working, saloon, serving, drink, c...</td>\n",
       "    </tr>\n",
       "    <tr>\n",
       "      <th>1</th>\n",
       "      <td>1901</td>\n",
       "      <td>Love by the Light of the Moon</td>\n",
       "      <td>American</td>\n",
       "      <td>Unknown</td>\n",
       "      <td>NaN</td>\n",
       "      <td>unknown</td>\n",
       "      <td>https://en.wikipedia.org/wiki/Love_by_the_Ligh...</td>\n",
       "      <td>The moon, painted with a smiling face hangs ov...</td>\n",
       "      <td>[moon, painted, smiling, face, hang, park, nig...</td>\n",
       "    </tr>\n",
       "    <tr>\n",
       "      <th>2</th>\n",
       "      <td>1901</td>\n",
       "      <td>The Martyred Presidents</td>\n",
       "      <td>American</td>\n",
       "      <td>Unknown</td>\n",
       "      <td>NaN</td>\n",
       "      <td>unknown</td>\n",
       "      <td>https://en.wikipedia.org/wiki/The_Martyred_Pre...</td>\n",
       "      <td>The film, just over a minute long, is composed...</td>\n",
       "      <td>[film, minute, long, composed, two, shot, firs...</td>\n",
       "    </tr>\n",
       "    <tr>\n",
       "      <th>3</th>\n",
       "      <td>1901</td>\n",
       "      <td>Terrible Teddy, the Grizzly King</td>\n",
       "      <td>American</td>\n",
       "      <td>Unknown</td>\n",
       "      <td>NaN</td>\n",
       "      <td>unknown</td>\n",
       "      <td>https://en.wikipedia.org/wiki/Terrible_Teddy,_...</td>\n",
       "      <td>Lasting just 61 seconds and consisting of two ...</td>\n",
       "      <td>[lasting, second, consisting, two, shot, first...</td>\n",
       "    </tr>\n",
       "    <tr>\n",
       "      <th>4</th>\n",
       "      <td>1902</td>\n",
       "      <td>Jack and the Beanstalk</td>\n",
       "      <td>American</td>\n",
       "      <td>George S. Fleming, Edwin S. Porter</td>\n",
       "      <td>NaN</td>\n",
       "      <td>unknown</td>\n",
       "      <td>https://en.wikipedia.org/wiki/Jack_and_the_Bea...</td>\n",
       "      <td>The earliest known adaptation of the classic f...</td>\n",
       "      <td>[earliest, known, adaptation, classic, fairyta...</td>\n",
       "    </tr>\n",
       "  </tbody>\n",
       "</table>\n",
       "</div>"
      ],
      "text/plain": [
       "   Release Year                             Title Origin/Ethnicity  \\\n",
       "0          1901            Kansas Saloon Smashers         American   \n",
       "1          1901     Love by the Light of the Moon         American   \n",
       "2          1901           The Martyred Presidents         American   \n",
       "3          1901  Terrible Teddy, the Grizzly King         American   \n",
       "4          1902            Jack and the Beanstalk         American   \n",
       "\n",
       "                             Director Cast    Genre  \\\n",
       "0                             Unknown  NaN  unknown   \n",
       "1                             Unknown  NaN  unknown   \n",
       "2                             Unknown  NaN  unknown   \n",
       "3                             Unknown  NaN  unknown   \n",
       "4  George S. Fleming, Edwin S. Porter  NaN  unknown   \n",
       "\n",
       "                                           Wiki Page  \\\n",
       "0  https://en.wikipedia.org/wiki/Kansas_Saloon_Sm...   \n",
       "1  https://en.wikipedia.org/wiki/Love_by_the_Ligh...   \n",
       "2  https://en.wikipedia.org/wiki/The_Martyred_Pre...   \n",
       "3  https://en.wikipedia.org/wiki/Terrible_Teddy,_...   \n",
       "4  https://en.wikipedia.org/wiki/Jack_and_the_Bea...   \n",
       "\n",
       "                                                Plot  \\\n",
       "0  A bartender is working at a saloon, serving dr...   \n",
       "1  The moon, painted with a smiling face hangs ov...   \n",
       "2  The film, just over a minute long, is composed...   \n",
       "3  Lasting just 61 seconds and consisting of two ...   \n",
       "4  The earliest known adaptation of the classic f...   \n",
       "\n",
       "                                      plot_tokenized  \n",
       "0  [bartender, working, saloon, serving, drink, c...  \n",
       "1  [moon, painted, smiling, face, hang, park, nig...  \n",
       "2  [film, minute, long, composed, two, shot, firs...  \n",
       "3  [lasting, second, consisting, two, shot, first...  \n",
       "4  [earliest, known, adaptation, classic, fairyta...  "
      ]
     },
     "execution_count": 17,
     "metadata": {},
     "output_type": "execute_result"
    }
   ],
   "source": [
    "print(\"Cleaning and Tokenizing...\")\n",
    "\n",
    "%time data['plot_tokenized'] = data['Plot'].map(lambda x : nltk_tokenizer(x))\n",
    "\n",
    "data.to_csv('cleaned_movie_plots.csv', index=False)\n"
   ]
  },
  {
   "cell_type": "code",
   "execution_count": 29,
   "id": "6500bab6",
   "metadata": {},
   "outputs": [],
   "source": [
    "data.to_csv('cleaned_movie_plots.csv', index=False)"
   ]
  },
  {
   "cell_type": "code",
   "execution_count": 18,
   "id": "644ef8c2",
   "metadata": {},
   "outputs": [],
   "source": [
    "# store tokens separatly \n",
    "movie_tokenized = data['plot_tokenized']"
   ]
  },
  {
   "cell_type": "markdown",
   "id": "e5aa0080",
   "metadata": {},
   "source": [
    "# Building Word Dictionary"
   ]
  },
  {
   "cell_type": "code",
   "execution_count": 19,
   "id": "abe98bac",
   "metadata": {},
   "outputs": [
    {
     "name": "stdout",
     "output_type": "stream",
     "text": [
      "CPU times: total: 5.02 s\n",
      "Wall time: 12.7 s\n"
     ]
    }
   ],
   "source": [
    "from gensim import corpora\n",
    "\n",
    "# Build a dictionary for the tokenizd words\n",
    "%time dictionary = corpora.Dictionary(movie_tokenized)"
   ]
  },
  {
   "cell_type": "code",
   "execution_count": 20,
   "id": "52f3421a",
   "metadata": {},
   "outputs": [
    {
     "name": "stdout",
     "output_type": "stream",
     "text": [
      "[[['appear', 0], ['assault', 1], ['bar', 2], ['bartender', 3], ['beer', 4], ['begin', 5], ['breaking', 6], ['bucket', 7], ['burst', 8], ['carrie', 9], ['cash', 10], ['customer', 11], ['drink', 12], ['dumping', 13], ['everybody', 14], ['eye', 15], ['face', 16], ['fill', 17], ['fixture', 18], ['follower', 19], ['group', 20], ['hat', 21], ['head', 22], ['inside', 23], ['irish', 24], ['leave', 25], ['man', 26], ['mirror', 27], ['nation', 28], ['order', 29], ['policeman', 30], ['pulling', 31], ['register', 32], ['saloon', 33], ['seltzer', 34], ['serving', 35], ['smashing', 36], ['spray', 37], ['stereotypically', 38], ['water', 39], ['working', 40], ['wrecking', 41], ['bench', 42], ['better', 43], ['bigger', 44], ['blocked', 45], ['causing', 46], ['couple', 47], ['embrace', 48], ['everything', 49], ['fan', 50]]]\n"
     ]
    }
   ],
   "source": [
    "# Creating a list of lists\n",
    "dict_tokens = [\n",
    "    [\n",
    "        [dictionary[key]\n",
    "         , dictionary.token2id[dictionary[key]]]\n",
    "        for key, value in dictionary.items()\n",
    "        if key <= 50\n",
    "    ]\n",
    "]\n",
    "# Printing the resulting list\n",
    "print(dict_tokens)\n"
   ]
  },
  {
   "cell_type": "markdown",
   "id": "012745ee",
   "metadata": {},
   "source": [
    "# Bag of Words"
   ]
  },
  {
   "cell_type": "code",
   "execution_count": 21,
   "id": "d9e4f7da",
   "metadata": {},
   "outputs": [
    {
     "name": "stdout",
     "output_type": "stream",
     "text": [
      "CPU times: total: 1.86 s\n",
      "Wall time: 7.06 s\n"
     ]
    }
   ],
   "source": [
    "%time corpus = [dictionary.doc2bow(desc) for desc in movie_tokenized] # Build bag of words for the tokens"
   ]
  },
  {
   "cell_type": "code",
   "execution_count": 22,
   "id": "13168780",
   "metadata": {},
   "outputs": [
    {
     "name": "stdout",
     "output_type": "stream",
     "text": [
      "[[('appear', 1), ('assault', 1), ('bar', 1), ('bartender', 2), ('beer', 2), ('begin', 1), ('breaking', 1), ('bucket', 1), ('burst', 1), ('carrie', 1), ('cash', 1), ('customer', 1), ('drink', 1), ('dumping', 1), ('everybody', 1), ('eye', 1), ('face', 1), ('fill', 1), ('fixture', 1), ('follower', 1), ('group', 2), ('hat', 1), ('head', 1), ('inside', 1), ('irish', 2), ('leave', 1), ('man', 2), ('mirror', 1), ('nation', 2), ('order', 1), ('policeman', 1), ('pulling', 1), ('register', 1), ('saloon', 1), ('seltzer', 1), ('serving', 1), ('smashing', 1), ('spray', 1), ('stereotypically', 1), ('water', 1), ('working', 1), ('wrecking', 1)], [('face', 1), ('hat', 1), ('man', 1), ('bench', 1), ('better', 1), ('bigger', 1), ('blocked', 1), ('causing', 1), ('couple', 1), ('embrace', 1), ('everything', 1), ('fan', 1), ('fence', 1), ('frown', 1), ('get', 1), ('hang', 1), ('last', 1), ('learn', 1), ('left', 1), ('look', 1), ('moon', 5), ('night', 1), ('painted', 1), ('park', 1), ('past', 1), ('perched', 1), ('railing', 1), ('scene', 1), ('see', 1), ('shoulder', 1), ('sit', 1), ('sky', 1), ('smile', 2), ('smiling', 1), ('tree', 1), ('view', 1), ('walking', 1), ('woman', 1), ('young', 1)], [('face', 1), ('altar', 2), ('assassin', 1), ('assassination', 1), ('base', 1), ('camera', 1), ('center', 1), ('composed', 1), ('display', 1), ('eight', 1), ('film', 1), ('first', 1), ('foot', 1), ('garfield', 1), ('girl', 1), ('hidden', 1), ('james', 1), ('justice', 1), ('kneel', 1), ('lady', 1), ('lincoln', 1), ('long', 2), ('mckinleyeach', 1), ('minute', 1), ('portal', 1), ('portrait', 1), ('presidentsabraham', 1), ('run', 1), ('second', 2), ('shot', 2), ('sits', 1), ('three', 1), ('tomb', 1), ('two', 1), ('u', 1), ('victim', 1), ('viewing', 1), ('william', 1)]]\n"
     ]
    }
   ],
   "source": [
    "word_frequencies = [[(dictionary[id], frequency) for id, frequency in line] for line in corpus[0:3]]\n",
    "\n",
    "print(word_frequencies)"
   ]
  },
  {
   "cell_type": "markdown",
   "id": "3044af08",
   "metadata": {},
   "source": [
    "# Tf-Idf and LSI model"
   ]
  },
  {
   "cell_type": "code",
   "execution_count": 23,
   "id": "0508b47f",
   "metadata": {},
   "outputs": [],
   "source": [
    "movie_tfidf_model = gensim.models.TfidfModel(corpus, id2word=dictionary)\n",
    "\n",
    "movie_lsi_model = gensim.models.LsiModel(movie_tfidf_model[corpus], id2word=dictionary, num_topics=400)"
   ]
  },
  {
   "cell_type": "code",
   "execution_count": 24,
   "id": "a89dbf78",
   "metadata": {},
   "outputs": [],
   "source": [
    "# Serialize the output of the model\n",
    "\n",
    "gensim.corpora.MmCorpus.serialize('movie_tfidf_model_mm', movie_tfidf_model[corpus])\n",
    "\n",
    "gensim.corpora.MmCorpus.serialize('movie_lsi_model_mm',movie_lsi_model[movie_tfidf_model[corpus]])"
   ]
  },
  {
   "cell_type": "code",
   "execution_count": 25,
   "id": "990615c3",
   "metadata": {},
   "outputs": [],
   "source": [
    "# Load the previously serialized models back to memory.\n",
    "# This allows you to use the preprocessed without having to remcompute it again.\n",
    "\n",
    "\n",
    "movie_tfidf_corpus = gensim.corpora.MmCorpus('movie_tfidf_model_mm')\n",
    "movie_lsi_corpus = gensim.corpora.MmCorpus('movie_lsi_model_mm')\n"
   ]
  },
  {
   "cell_type": "code",
   "execution_count": 26,
   "id": "418315ce",
   "metadata": {},
   "outputs": [],
   "source": [
    "from gensim.similarities import MatrixSimilarity\n",
    "\n",
    "\n",
    "movie_index = MatrixSimilarity(movie_lsi_corpus, num_features=movie_lsi_corpus.num_terms)\n"
   ]
  },
  {
   "cell_type": "markdown",
   "id": "605c8d20",
   "metadata": {},
   "source": [
    "# Search "
   ]
  },
  {
   "cell_type": "code",
   "execution_count": 27,
   "id": "e6320e40",
   "metadata": {},
   "outputs": [],
   "source": [
    "from operator import itemgetter\n",
    "from gensim import corpora\n",
    "import gensim\n",
    "\n",
    "\n",
    "\n",
    "movie_tfidf_corpus = gensim.corpora.MmCorpus('movie_tfidf_model_mm')\n",
    "movie_lsi_corpus = gensim.corpora.MmCorpus('movie_lsi_model_mm')\n",
    "\n",
    "def search(input_query):\n",
    "    \n",
    "    tokenized_input = nltk_tokenizer(input_query)\n",
    "    bow_input = dictionary.doc2bow(tokenized_input)\n",
    "    \n",
    "    query_tfidf = movie_tfidf_model[bow_input]\n",
    "    query_lsi = movie_lsi_model[query_tfidf]\n",
    "    \n",
    "    movie_index.num_best = 10\n",
    "    \n",
    "    movies_list = movie_index[query_lsi]\n",
    "    \n",
    "    \n",
    "    movies_list.sort(key=itemgetter(1), reverse=True)\n",
    "    movie_names = []\n",
    "    \n",
    "    for j, movie in enumerate(movies_list):\n",
    "\n",
    "        movie_names.append (\n",
    "            {\n",
    "                'Relevance': round((movie[1] * 100),2),\n",
    "                'Movie Title': data['Title'][movie[0]],\n",
    "                'Movie Plot': data['Plot'][movie[0]],\n",
    "                'Wikipedia Link' : data['Wiki Page'][movie[0]]\n",
    "            }\n",
    "\n",
    "        )\n",
    "        if j == (movie_index.num_best-1):\n",
    "            break\n",
    "\n",
    "    return pd.DataFrame(movie_names, columns=['Relevance','Movie Title','Movie Plot', 'Wikipedia Link'])"
   ]
  },
  {
   "cell_type": "code",
   "execution_count": 59,
   "id": "283f2546",
   "metadata": {},
   "outputs": [
    {
     "name": "stdout",
     "output_type": "stream",
     "text": [
      "The search engine correctly identified 5.454545454545454% of the expected movies.\n",
      "The search engine has a mean average precision of 4.722222222222222%.\n"
     ]
    }
   ],
   "source": [
    "# Define a list of queries and their expected movie titles\n",
    "test_cases = [\n",
    "    {\n",
    "        'query': 'extraterrestrial vegetable crisis',\n",
    "        'expected_movies': ['Attack of the Killer Tomatoes', 'The Day of the Triffids', 'Little Shop of Horrors']\n",
    "    },\n",
    "    {\n",
    "        'query': 'time-traveling mailbox',\n",
    "        'expected_movies': ['The Lake House', 'Frequency']\n",
    "    },\n",
    "    {\n",
    "        'query': 'prehistoric reptile theme park',\n",
    "        'expected_movies': ['Jurassic Park', 'Jurassic World', 'The Lost World: Jurassic Park']\n",
    "    },\n",
    "    {\n",
    "        'query': 'haunted videotape',\n",
    "        'expected_movies': ['The Ring', 'Ringu', 'The Ring Two']\n",
    "    },\n",
    "    {\n",
    "        'query': 'romance between a human and an avatar',\n",
    "        'expected_movies': ['Avatar', 'Her', 'Ex Machina']\n",
    "    },\n",
    "    {\n",
    "        'query': 'a ship hits an iceberg',\n",
    "        'expected_movies': ['Titanic', 'A Night to Remember', 'The Unsinkable Molly Brown']\n",
    "    },\n",
    "    {\n",
    "        'query': 'a man ages backwards',\n",
    "        'expected_movies': ['The Curious Case of Benjamin Button']\n",
    "    },\n",
    "    {\n",
    "        'query': 'a clown terrorizes children',\n",
    "        'expected_movies': ['It', 'It Chapter Two', 'Poltergeist']\n",
    "    },\n",
    "    {\n",
    "        'query': 'a dream within a dream',\n",
    "        'expected_movies': ['Inception', 'The Matrix', 'Paprika']\n",
    "    },\n",
    "    {\n",
    "        'query': 'a man talks to a volleyball',\n",
    "        'expected_movies': ['Cast Away']\n",
    "    },\n",
    "{\n",
    "    'query': 'a group of friends go on a road trip',\n",
    "    'expected_movies': ['The Hangover', 'Road Trip', 'EuroTrip']\n",
    "},\n",
    "{\n",
    "    'query': 'a high school student becomes a superhero',\n",
    "    'expected_movies': ['Spider-Man', 'Kick-Ass', 'Superbad']\n",
    "},\n",
    "{\n",
    "    'query': 'a detective solves a murder mystery',\n",
    "    'expected_movies': ['Sherlock Holmes', 'Knives Out', 'Gone Girl']\n",
    "},\n",
    "{\n",
    "    'query': 'a family goes on a vacation to an amusement park',\n",
    "    'expected_movies': ['National Lampoon\\'s Vacation', 'RV', 'We\\'re the Millers']\n",
    "},\n",
    "{\n",
    "    'query': 'a group of rebels fight against an oppressive regime',\n",
    "    'expected_movies': ['Star Wars', 'The Hunger Games', 'V for Vendetta']\n",
    "},\n",
    "{\n",
    "    'query': 'a person gains superpowers after being bitten by a radioactive animal',\n",
    "    'expected_movies': ['Spider-Man', 'The Incredible Hulk', 'Teenage Mutant Ninja Turtles']\n",
    "},\n",
    "{\n",
    "    'query': 'a person travels back in time to prevent a disaster',\n",
    "    'expected_movies': ['Back to the Future', 'The Terminator', 'Looper']\n",
    "},\n",
    "{\n",
    "    'query': 'a person wakes up in a parallel universe',\n",
    "    'expected_movies': ['The Matrix', 'Stranger Things', 'Dark']\n",
    "},\n",
    "{\n",
    "    'query': 'a group of thieves plan a heist',\n",
    "    'expected_movies': ['Ocean\\'s Eleven', 'Heat', 'The Italian Job']\n",
    "},\n",
    "{\n",
    "    'query': 'a person becomes stranded on a deserted island',\n",
    "    'expected_movies': ['Cast Away', 'The Shallows', 'Life of Pi']\n",
    "}\n",
    "    \n",
    "]\n",
    "\n",
    "def evaluate_search_engine(test_cases):\n",
    "    total_movies = sum(len(test_case['expected_movies']) for test_case in test_cases)\n",
    "    found_movies = 0\n",
    "\n",
    "    for test_case in test_cases:\n",
    "        result_df = search(test_case['query'])\n",
    "        found_movies_list = result_df['Movie Title'].tolist()\n",
    "\n",
    "        for movie in test_case['expected_movies']:\n",
    "            if movie in found_movies_list:\n",
    "                found_movies += 1\n",
    "\n",
    "    return found_movies / total_movies * 100\n",
    "\n",
    "def evaluate_search_engine_map(test_cases):\n",
    "    total_precision = 0\n",
    "\n",
    "    for test_case in test_cases:\n",
    "        result_df = search(test_case['query'])\n",
    "        found_movies_list = result_df['Movie Title'].tolist()\n",
    "\n",
    "        relevant_movies = 0\n",
    "        sum_precisions = 0\n",
    "\n",
    "        for i, movie in enumerate(found_movies_list):\n",
    "            if movie in test_case['expected_movies']:\n",
    "                relevant_movies += 1\n",
    "                precision = relevant_movies / (i + 1)\n",
    "                sum_precisions += precision\n",
    "\n",
    "        average_precision = sum_precisions / len(test_case['expected_movies'])\n",
    "        total_precision += average_precision\n",
    "\n",
    "    map_score = total_precision / len(test_cases)\n",
    "\n",
    "    return map_score * 100\n",
    "\n",
    "# Call the function with the test cases\n",
    "performance = evaluate_search_engine(test_cases)\n",
    "map_performance = evaluate_search_engine_map(test_cases)\n",
    "\n",
    "print(f'The search engine correctly identified {performance}% of the expected movies.')\n",
    "print(f'The search engine has a mean average precision of {map_performance}%.')\n"
   ]
  },
  {
   "cell_type": "code",
   "execution_count": 64,
   "id": "8469eebe",
   "metadata": {},
   "outputs": [],
   "source": []
  },
  {
   "cell_type": "code",
   "execution_count": 74,
   "id": "ad3c7614",
   "metadata": {},
   "outputs": [
    {
     "name": "stdout",
     "output_type": "stream",
     "text": [
      "evaluating..\n",
      "Scores for before each query: [33.295, 25.43, 0, 32.73, 41.225, 35.305, 0, 0, 0, 0, 0, 0, 48.87, 48.99, 48.515, 46.305, 0, 34.585, 39.08, 29.25, 0, 0, 0, 0, 40.325, 0, 0, 36.755, 0, 37.525, 26.275, 0, 32.21, 38.905, 37.83, 0, 30.91, 0, 0, 0, 24.515, 45.1, 47.615, 47.55, 39.455, 34.58, 0, 0, 31.275, 23.53, 23.74, 38.6, 39.12, 0, 42.51, 40.54, 0, 33.38, 33.995, 0]\n",
      "normalized scores: [0.6796284956113493, 0.5190855276587059, 0.0, 0.6680955296999387, 0.8414982649520311, 0.7206572769953051, 0.0, 0.0, 0.0, 0.0, 0.0, 0.0, 0.9975505205143906, 1.0, 0.9903041437027965, 0.9451928965094917, 0.0, 0.7059604000816493, 0.7977138191467646, 0.5970606246172688, 0.0, 0.0, 0.0, 0.0, 0.8231271688099613, 0.0, 0.0, 0.7502551541130843, 0.0, 0.7659726474790773, 0.5363339457032047, 0.0, 0.6574811185956317, 0.7941416615635845, 0.7721984078383343, 0.0, 0.6309450908348643, 0.0, 0.0, 0.0, 0.5004082465809349, 0.920596040008165, 0.9719330475607267, 0.9706062461726882, 0.8053684425392937, 0.7058583384364155, 0.0, 0.0, 0.6383955909369259, 0.48030210246989186, 0.4845886915697081, 0.7879159012043274, 0.7985303123086344, 0.0, 0.8677281077770973, 0.8275158195550112, 0.0, 0.6813635435803226, 0.6939171259440702, 0.0]\n",
      "Scores for each query: [33.295, 25.43, 0, 32.73, 41.225, 35.305, 0, 0, 0, 0, 0, 0, 48.87, 48.99, 48.515, 46.305, 0, 34.585, 39.08, 29.25, 0, 0, 0, 0, 40.325, 0, 0, 36.755, 0, 37.525, 26.275, 0, 32.21, 38.905, 37.83, 0, 30.91, 0, 0, 0, 24.515, 45.1, 47.615, 47.55, 39.455, 34.58, 0, 0, 31.275, 23.53, 23.74, 38.6, 39.12, 0, 42.51, 40.54, 0, 33.38, 33.995, 0]\n",
      "The pourcentage of correctly guessed titles of the search engine is 0.43880383751786073%.\n"
     ]
    }
   ],
   "source": [
    "from sklearn.preprocessing import MinMaxScaler\n",
    "queries = [\n",
    "    # Movie 1: Kansas Saloon Smashers\n",
    "    \"Saloon chaos erupts as Irish man's bucket is filled with beer.\",\n",
    "    \"Carrie Nation's unexpected visit to the saloon leads to chaos.\",\n",
    "    \"Police intervention ends the saloon altercation.\",\n",
    "\n",
    "    # Movie 2: Love by the Light of the Moon\n",
    "    \"Romantic couple enchanted by the moon's smile.\",\n",
    "    \"Park bench scene under the moon's watchful eye.\",\n",
    "    \"The moon's frown disappoints the couple.\",\n",
    "\n",
    "    # Movie 3: The Martyred Presidents\n",
    "    \"Portraits of assassinated presidents on display.\",\n",
    "    \"Assassin kneels before Lady Justice.\",\n",
    "    \"The film's two-shot composition.\",\n",
    "\n",
    "    # Movie 4: Terrible Teddy, the Grizzly King\n",
    "    \"Vice-president Roosevelt hunts in the woods.\",\n",
    "    \"Press agent documents Roosevelt's hunting expedition.\",\n",
    "    \"Roosevelt's triumphant display of his trophy.\",\n",
    "\n",
    "    # Movie 5: Jack and the Beanstalk\n",
    "    \"Jack trades his cow for magical beans.\",\n",
    "    \"Jack climbs the beanstalk and encounters the giant.\",\n",
    "    \"The fairy reveals Jack's royal destiny.\",\n",
    "\n",
    "    # Movie 6: Alice in Wonderland\n",
    "    \"Alice follows the white rabbit down the rabbit-hole.\",\n",
    "    \"Alice attends the Mad Tea-Party.\",\n",
    "    \"Alice's encounter with the Queen's procession.\",\n",
    "\n",
    "    # Movie 7: The Great Train Robbery\n",
    "    \"Bandits stage a daring train robbery.\",\n",
    "    \"Posse pursues the fleeing bandits.\",\n",
    "    \"Final shootout and recovery of stolen loot.\",\n",
    "\n",
    "    # Movie 8: The Suburbanite\n",
    "    \"Family's move to the suburbs turns chaotic.\",\n",
    "    \"Wife's violent outburst leads to her arrest.\",\n",
    "    \"The quiet suburban life turns tumultuous.\",\n",
    "\n",
    "    # Movie 9: The Little Train Robbery\n",
    "    \"Bandits plan and execute a train robbery.\",\n",
    "    \"Police pursue the fleeing robbers.\",\n",
    "    \"Final capture of the bedraggled robbers.\",\n",
    "\n",
    "    # Movie 10: The Night Before Christmas\n",
    "    \"Santa Claus prepares for his Christmas journey.\",\n",
    "    \"Santa delivers presents to children on Christmas Eve.\",\n",
    "    \"Children awaken to find their Christmas presents.\",\n",
    "\n",
    "    # Movie 11: Dream of a Rarebit Fiend\n",
    "    \"Rarebit fiend hallucinates after eating Welsh rarebit.\",\n",
    "    \"The rarebit fiend's wild dreams come to life.\",\n",
    "    \"The fiend awakens from his surreal dream.\",\n",
    "\n",
    "    # Movie 12: From Leadville to Aspen: A Hold-Up in the Rockies\n",
    "    \"Thugs create a hold-up on a train in the Rockies.\",\n",
    "    \"Robbers systematically rob the train's passengers.\",\n",
    "    \"Final confrontation and capture of the robbers.\",\n",
    "\n",
    "    # Movie 13: Kathleen Mavourneen\n",
    "    \"Irish villagers celebrate the defeat of Captain Clearfield.\",\n",
    "    \"Terence O'More saves the village from oppression.\",\n",
    "    \"O'More's heroism leads to a joyful celebration.\",\n",
    "\n",
    "    # Movie 14: Daniel Boone\n",
    "    \"Daniel Boone's daughter is abducted by Indians.\",\n",
    "    \"Boone embarks on a perilous rescue mission.\",\n",
    "    \"Boone's epic battle against the Indian chief.\",\n",
    "\n",
    "    # Movie 15: How Brown Saw the Baseball Game\n",
    "    \"Mr. Brown's drunken misadventures at a baseball game.\",\n",
    "    \"Mr. Brown's intoxicated perception of the baseball game.\",\n",
    "    \"Mr. Brown's wife confronts the friend responsible for his intoxication.\",\n",
    "\n",
    "    # Movie 16: Laughing Gas\n",
    "    \"A black woman's comedic experience with laughing gas.\",\n",
    "    \"The contagious laughter spreads to others in the neighborhood.\",\n",
    "    \"Police officers join in the hilarity caused by laughing gas.\",\n",
    "\n",
    "    # Movie 17: The Adventures of Dollie\n",
    "    \"Dollie is kidnapped by gypsies during an outing.\",\n",
    "    \"Rescue party searches for Dollie in the mountains.\",\n",
    "    \"Dollie's dramatic rescue from the gypsies.\",\n",
    "\n",
    "    # Movie 18: The Black Viper\n",
    "    \"Thug accosts a girl, leading to a rescue by a man.\",\n",
    "    \"Girl and rescuer are kidnapped by the thugs.\",\n",
    "    \"Final confrontation and rescue from the thugs.\",\n",
    "\n",
    "    # Movie 19: A Calamitous Elopement\n",
    "    \"Young couple's elopement plans are thwarted by a thief.\",\n",
    "    \"Thief hides in the couple's trunk to steal their belongings.\",\n",
    "    \"The couple's elopement turns into a calamitous adventure.\",\n",
    "\n",
    "    # Movie 20: The Call of the Wild\n",
    "    \"A white girl rejects an Indian brave's proposal.\",\n",
    "    \"Indian brave comes to the girl's defense when she is abducted.\",\n",
    "    \"Girl is reunited safely with her parents after a perilous ordeal.\"\n",
    "]\n",
    "\n",
    "expected_results = [\n",
    "    # Movie 1\n",
    "    [\"1\", \"7\", \"8\", \"3\", \"5\", \"6\"], [\"1\", \"7\", \"8\", \"3\", \"5\", \"6\"], [\"1\", \"7\", \"8\", \"3\", \"5\", \"6\"],\n",
    "\n",
    "    # Movie 2\n",
    "    [\"2\", \"6\", \"5\", \"4\", \"7\", \"9\"], [\"2\", \"6\", \"5\", \"4\", \"7\", \"9\"], [\"2\", \"6\", \"5\", \"4\", \"7\", \"9\"],\n",
    "\n",
    "    # Movie 3\n",
    "    [\"3\", \"4\", \"7\", \"1\", \"2\", \"8\"], [\"3\", \"4\", \"7\", \"1\", \"2\", \"8\"], [\"3\", \"4\", \"7\", \"1\", \"2\", \"8\"],\n",
    "\n",
    "    # Movie 4\n",
    "    [\"4\", \"3\", \"5\", \"2\", \"1\", \"9\"], [\"4\", \"3\", \"5\", \"2\", \"1\", \"9\"], [\"4\", \"3\", \"5\", \"2\", \"1\", \"9\"],\n",
    "\n",
    "    # Movie 5\n",
    "    [\"5\", \"3\", \"4\", \"2\", \"1\", \"10\"], [\"5\", \"3\", \"4\", \"2\", \"1\", \"10\"], [\"5\", \"3\", \"4\", \"2\", \"1\", \"10\"],\n",
    "\n",
    "    # Movie 6\n",
    "    [\"6\", \"2\", \"10\", \"1\", \"8\", \"7\"], [\"6\", \"2\", \"10\", \"1\", \"8\", \"7\"], [\"6\", \"2\", \"10\", \"1\", \"8\", \"7\"],\n",
    "\n",
    "    # Movie 7\n",
    "    [\"7\", \"1\", \"8\", \"3\", \"2\", \"9\"], [\"7\", \"1\", \"8\", \"3\", \"2\", \"9\"], [\"7\", \"1\", \"8\", \"3\", \"2\", \"9\"],\n",
    "\n",
    "    # Movie 8\n",
    "    [\"8\", \"7\", \"1\", \"3\", \"6\", \"10\"], [\"8\", \"7\", \"1\", \"3\", \"6\", \"10\"], [\"8\", \"7\", \"1\", \"3\", \"6\", \"10\"],\n",
    "\n",
    "    # Movie 9\n",
    "    [\"9\", \"7\", \"10\", \"1\", \"2\", \"5\"], [\"9\", \"7\", \"10\", \"1\", \"2\", \"5\"], [\"9\", \"7\", \"10\", \"1\", \"2\", \"5\"],\n",
    "\n",
    "    # Movie 10\n",
    "    [\"10\", \"6\", \"9\", \"2\", \"3\", \"4\"], [\"10\", \"6\", \"9\", \"2\", \"3\", \"4\"], [\"10\", \"6\", \"9\", \"2\", \"3\", \"4\"],\n",
    "    # Movie 11\n",
    "    [\"11\", \"5\", \"6\", \"4\", \"7\", \"2\"], [\"11\", \"5\", \"6\", \"4\", \"7\", \"2\"], [\"11\", \"5\", \"6\", \"4\", \"7\", \"2\"],\n",
    "\n",
    "    # Movie 12\n",
    "    [\"12\", \"7\", \"8\", \"6\", \"9\", \"4\"], [\"12\", \"7\", \"8\", \"6\", \"9\", \"4\"], [\"12\", \"7\", \"8\", \"6\", \"9\", \"4\"],\n",
    "\n",
    "    # Movie 13\n",
    "    [\"13\", \"9\", \"10\", \"1\", \"17\", \"20\"], [\"13\", \"9\", \"10\", \"1\", \"17\", \"20\"], [\"13\", \"9\", \"10\", \"1\", \"17\", \"20\"],\n",
    "\n",
    "    # Movie 14\n",
    "    [\"14\", \"12\", \"6\", \"4\", \"17\", \"19\"], [\"14\", \"12\", \"6\", \"4\", \"17\", \"19\"], [\"14\", \"12\", \"6\", \"4\", \"17\", \"19\"],\n",
    "\n",
    "    # Movie 15\n",
    "    [\"15\", \"1\", \"7\", \"16\", \"6\", \"2\"], [\"15\", \"1\", \"7\", \"16\", \"6\", \"2\"], [\"15\", \"1\", \"7\", \"16\", \"6\", \"2\"],\n",
    "\n",
    "    # Movie 16\n",
    "    [\"16\", \"5\", \"13\", \"4\", \"23\", \"2\"], [\"16\", \"5\", \"13\", \"4\", \"23\", \"2\"], [\"16\", \"5\", \"13\", \"4\", \"23\", \"2\"],\n",
    "\n",
    "    # Movie 17\n",
    "    [\"17\", \"5\", \"6\", \"4\", \"7\", \"1\"], [\"17\", \"5\", \"6\", \"4\", \"19\", \"1\"], [\"17\", \"5\", \"6\", \"4\", \"19\", \"1\"],\n",
    "\n",
    "    # Movie 18\n",
    "    [\"18\", \"2\", \"16\", \"4\", \"22\", \"13\"], [\"18\", \"2\", \"16\", \"4\", \"22\", \"13\"], [\"18\", \"2\", \"16\", \"4\", \"22\", \"13\"],\n",
    "\n",
    "    # Movie 19\n",
    "    [\"19\", \"7\", \"6\", \"5\", \"9\", \"14\"], [\"19\", \"7\", \"6\", \"5\", \"9\", \"14\"], [\"19\", \"7\", \"6\", \"5\", \"9\", \"14\"],\n",
    "\n",
    "    # Movie 20\n",
    "    [\"20\", \"12\", \"6\", \"4\", \"1\", \"2\"], [\"20\", \"12\", \"6\", \"4\", \"1\", \"2\"], [\"20\", \"12\", \"6\", \"4\", \"1\", \"2\"]\n",
    "\n",
    "]\n",
    "def search2(input_query):\n",
    "    tokenized_input = nltk_tokenizer(input_query)\n",
    "    bow_input = dictionary.doc2bow(tokenized_input)\n",
    "    \n",
    "    query_tfidf = movie_tfidf_model[bow_input]\n",
    "    query_lsi = movie_lsi_model[query_tfidf]\n",
    "    \n",
    "    movie_index.num_best = 10\n",
    "    \n",
    "    movies_list = movie_index[query_lsi]\n",
    "    \n",
    "    movies_list.sort(key=itemgetter(1), reverse=True)\n",
    "    movie_names = []\n",
    "    \n",
    "    for j, movie in enumerate(movies_list):\n",
    "        movie_names.append (\n",
    "            {\n",
    "                'Relevance': round((movie[1] * 100),2),\n",
    "                'Movie ID': movie[0],  # Use the index as the movie ID\n",
    "                'Movie Title': data['Title'][movie[0]],\n",
    "                'Movie Plot': data['Plot'][movie[0]],\n",
    "                'Wikipedia Link' : data['Wiki Page'][movie[0]]\n",
    "            }\n",
    "        )\n",
    "        if j == (movie_index.num_best-1):\n",
    "            break\n",
    "\n",
    "    return pd.DataFrame(movie_names, columns=['Relevance', 'Movie ID', 'Movie Title', 'Movie Plot', 'Wikipedia Link'])\n",
    "\n",
    "test_cases = [{'query': query, 'expected_movies': expected} for query, expected in zip(queries, expected_results)]\n",
    "\n",
    "def evaluate_search_engine_map(test_cases):\n",
    "    total_precision = 0\n",
    "\n",
    "    for test_case in test_cases:\n",
    "        result_df = search2(test_case['query'])\n",
    "        found_movies_list = result_df['Movie ID'].tolist()\n",
    "\n",
    "        relevant_movies = 0\n",
    "        sum_precisions = 0\n",
    "\n",
    "        for i, movie in enumerate(found_movies_list):\n",
    "            if str(movie + 1) in test_case['expected_movies']:  # Adjust the index\n",
    "                relevant_movies += 1\n",
    "                precision = relevant_movies / (i + 1)\n",
    "                sum_precisions += precision\n",
    "\n",
    "        average_precision = sum_precisions / len(test_case['expected_movies'])\n",
    "        total_precision += average_precision\n",
    "\n",
    "    map_score = total_precision / len(test_cases)\n",
    "\n",
    "    return map_score * 100\n",
    "\n",
    "def evaluate_search_engine(test_cases):\n",
    "    total_movies = sum(len(test_case['expected_movies']) for test_case in test_cases)\n",
    "    found_movies = 0\n",
    "\n",
    "    for test_case in test_cases:\n",
    "        result_df = search2(test_case['query'])\n",
    "        found_movies_list = result_df['Movie ID'].tolist()\n",
    "\n",
    "        for i, movie in enumerate(test_case['expected_movies']):\n",
    "            if int(movie) - 1 in found_movies_list:\n",
    "                found_movies += 1\n",
    "            \n",
    "\n",
    "    return found_movies / total_movies * 100\n",
    "\n"
   ]
  },
  {
   "cell_type": "code",
   "execution_count": null,
   "id": "cdf20eb2",
   "metadata": {},
   "outputs": [],
   "source": [
    "\n",
    "def evaluate_model(test_cases):\n",
    "    print('evaluating..')\n",
    "    scores = []\n",
    "\n",
    "    for test_case in test_cases:\n",
    "        all_results = []\n",
    "        result_df = search2(test_case['query'])\n",
    "        found_movies_list = result_df['Movie ID'].tolist()\n",
    "        weights = result_df['Relevance'].tolist()\n",
    "\n",
    "        weights = np.array(weights)\n",
    "        weights = (weights + 1) / 2\n",
    "\n",
    "        score = sum(weight for movie, weight in zip(found_movies_list, weights) if str(movie + 1) in test_case['expected_movies'])\n",
    "\n",
    "        scores.append(score)\n",
    "\n",
    "    print(\"Scores for before each query:\", scores)\n",
    "    scores_reshaped = [[score] for score in scores]\n",
    "\n",
    "    # Initialize MinMaxScaler\n",
    "    scaler = MinMaxScaler()\n",
    "\n",
    "    # Fit scaler to the data and transform the data\n",
    "    normalized_scores = scaler.fit_transform(scores_reshaped)\n",
    "\n",
    "    # Extract normalized scores from the resulting array\n",
    "    normalized_scores = [score[0] for score in normalized_scores]\n",
    "    print(\"normalized scores:\", normalized_scores)\n",
    "    print(\"Scores for each query:\", scores)\n",
    "\n",
    "    total_eval = sum(normalized_scores)/len(normalized_scores)\n",
    "\n",
    "    return total_eval\n",
    "\n",
    "# Call the function with the test cases\n",
    "performance = evaluate_model(test_cases)\n",
    "print(f'The pourcentage of correctly guessed titles of the search engine is {performance}%.')"
   ]
  },
  {
   "cell_type": "code",
   "execution_count": 75,
   "id": "34e92efe",
   "metadata": {},
   "outputs": [
    {
     "name": "stdout",
     "output_type": "stream",
     "text": [
      "The F1 score of the search engine is 7.291666666666667%.\n"
     ]
    }
   ],
   "source": [
    "from sklearn.metrics import f1_score\n",
    "\n",
    "def evaluate_search_engine_f1(test_cases):\n",
    "    total_f1 = 0\n",
    "\n",
    "    for test_case in test_cases:\n",
    "        result_df = search2(test_case['query'])\n",
    "        found_movies_list = result_df['Movie ID'].tolist()\n",
    "\n",
    "        # Convert the expected movies to the same format as the found movies\n",
    "        expected_movies = [int(movie) - 1 for movie in test_case['expected_movies']]\n",
    "\n",
    "        # Calculate the precision and recall\n",
    "        true_positives = len(set(expected_movies) & set(found_movies_list))\n",
    "        false_positives = len(set(found_movies_list) - set(expected_movies))\n",
    "        false_negatives = len(set(expected_movies) - set(found_movies_list))\n",
    "\n",
    "        precision = true_positives / (true_positives + false_positives) if true_positives + false_positives > 0 else 0\n",
    "        recall = true_positives / (true_positives + false_negatives) if true_positives + false_negatives > 0 else 0\n",
    "\n",
    "        # Calculate the F1 score\n",
    "        f1 = 2 * (precision * recall) / (precision + recall) if precision + recall > 0 else 0\n",
    "\n",
    "        total_f1 += f1\n",
    "\n",
    "    # Calculate the average F1 score\n",
    "    average_f1 = total_f1 / len(test_cases)\n",
    "\n",
    "    return average_f1 * 100\n",
    "\n",
    "# Call the function with the test cases\n",
    "performance = evaluate_search_engine_f1(test_cases)\n",
    "print(f'The F1 score of the search engine is {performance}%.')"
   ]
  }
 ],
 "metadata": {
  "kernelspec": {
   "display_name": "Python 3 (ipykernel)",
   "language": "python",
   "name": "python3"
  },
  "language_info": {
   "codemirror_mode": {
    "name": "ipython",
    "version": 3
   },
   "file_extension": ".py",
   "mimetype": "text/x-python",
   "name": "python",
   "nbconvert_exporter": "python",
   "pygments_lexer": "ipython3",
   "version": "3.10.13"
  }
 },
 "nbformat": 4,
 "nbformat_minor": 5
}
